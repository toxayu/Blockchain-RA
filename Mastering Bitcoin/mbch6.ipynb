{
 "cells": [
  {
   "cell_type": "code",
   "execution_count": 8,
   "metadata": {
    "collapsed": true
   },
   "outputs": [],
   "source": [
    "import json\n",
    "import requests"
   ]
  },
  {
   "cell_type": "code",
   "execution_count": 17,
   "metadata": {},
   "outputs": [],
   "source": [
    "address = '1NUV4AfXgcF7jg14ZbYPaQTo4WLgRo9pYz'"
   ]
  },
  {
   "cell_type": "code",
   "execution_count": 18,
   "metadata": {
    "collapsed": true
   },
   "outputs": [],
   "source": [
    "resp = requests.get('https://blockchain.info/unspent?active=%s' % address)\n"
   ]
  },
  {
   "cell_type": "code",
   "execution_count": 19,
   "metadata": {},
   "outputs": [],
   "source": [
    "utxo_set = json.loads(resp.text)[\"unspent_outputs\"]"
   ]
  },
  {
   "cell_type": "code",
   "execution_count": 20,
   "metadata": {},
   "outputs": [
    {
     "name": "stdout",
     "output_type": "stream",
     "text": [
      "3b99ff583e6b46bdfc437030bc916a3678bb7ada35c7c6c9204e81b8a49f61ea:451-16215 Satoshis\n",
      "2316395671624347fbade08c5cf70594e542f16423f2115a5fa0e400d1b44872:428-123546 Satoshis\n"
     ]
    }
   ],
   "source": [
    "for utxo in utxo_set:\n",
    "    print(\"%s:%d-%ld Satoshis\" % (utxo['tx_hash'], utxo['tx_output_n'], utxo['value']))\n"
   ]
  },
  {
   "cell_type": "code",
   "execution_count": 23,
   "metadata": {},
   "outputs": [
    {
     "data": {
      "text/plain": [
       "[{'confirmations': 9124,\n",
       "  'script': '76a914eb8d4a8dc6fcc8d150485d9b4c2e99ed0c88c83088ac',\n",
       "  'tx_hash': '3b99ff583e6b46bdfc437030bc916a3678bb7ada35c7c6c9204e81b8a49f61ea',\n",
       "  'tx_hash_big_endian': 'ea619fa4b8814e20c9c6c735da7abb78366a91bc307043fcbd466b3e58ff993b',\n",
       "  'tx_index': 308366356,\n",
       "  'tx_output_n': 451,\n",
       "  'value': 16215,\n",
       "  'value_hex': '3f57'},\n",
       " {'confirmations': 3567,\n",
       "  'script': '76a914eb8d4a8dc6fcc8d150485d9b4c2e99ed0c88c83088ac',\n",
       "  'tx_hash': '2316395671624347fbade08c5cf70594e542f16423f2115a5fa0e400d1b44872',\n",
       "  'tx_hash_big_endian': '7248b4d100e4a05f5a11f22364f142e59405f75c8ce0adfb4743627156391623',\n",
       "  'tx_index': 321829995,\n",
       "  'tx_output_n': 428,\n",
       "  'value': 123546,\n",
       "  'value_hex': '01e29a'}]"
      ]
     },
     "execution_count": 23,
     "metadata": {},
     "output_type": "execute_result"
    }
   ],
   "source": [
    "utxo_set"
   ]
  },
  {
   "cell_type": "code",
   "execution_count": 22,
   "metadata": {},
   "outputs": [
    {
     "data": {
      "text/plain": [
       "{'confirmations': 3567,\n",
       " 'script': '76a914eb8d4a8dc6fcc8d150485d9b4c2e99ed0c88c83088ac',\n",
       " 'tx_hash': '2316395671624347fbade08c5cf70594e542f16423f2115a5fa0e400d1b44872',\n",
       " 'tx_hash_big_endian': '7248b4d100e4a05f5a11f22364f142e59405f75c8ce0adfb4743627156391623',\n",
       " 'tx_index': 321829995,\n",
       " 'tx_output_n': 428,\n",
       " 'value': 123546,\n",
       " 'value_hex': '01e29a'}"
      ]
     },
     "execution_count": 22,
     "metadata": {},
     "output_type": "execute_result"
    }
   ],
   "source": [
    "utxo"
   ]
  },
  {
   "cell_type": "code",
   "execution_count": null,
   "metadata": {
    "collapsed": true
   },
   "outputs": [],
   "source": []
  }
 ],
 "metadata": {
  "kernelspec": {
   "display_name": "Python 3",
   "language": "python",
   "name": "python3"
  },
  "language_info": {
   "codemirror_mode": {
    "name": "ipython",
    "version": 3
   },
   "file_extension": ".py",
   "mimetype": "text/x-python",
   "name": "python",
   "nbconvert_exporter": "python",
   "pygments_lexer": "ipython3",
   "version": "3.6.3"
  }
 },
 "nbformat": 4,
 "nbformat_minor": 2
}
