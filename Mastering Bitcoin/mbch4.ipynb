{
 "cells": [
  {
   "cell_type": "code",
   "execution_count": 59,
   "metadata": {},
   "outputs": [
    {
     "data": {
      "text/plain": [
       "'1thMirt546nngXqyPEz532S8fLwbozud8'"
      ]
     },
     "execution_count": 59,
     "metadata": {},
     "output_type": "execute_result"
    }
   ],
   "source": [
    "import hashlib,bitcoin,base58, binascii\n",
    "publickey =b'045c0de3b9c8ab18dd04e3511243ec2952002dbfadc864b9628910169d9b9b00ec243bcefdd4347074d44bd7356d6a53c495737dd96295e2a9374bf5f02ebfc176'\n",
    "bitcoin.pubkey_to_address(publickey)\n"
   ]
  },
  {
   "cell_type": "code",
   "execution_count": 57,
   "metadata": {},
   "outputs": [
    {
     "data": {
      "text/plain": [
       "b'0009c6e71118d8f12bec6b5c61884b35677c0a0ae3'"
      ]
     },
     "execution_count": 57,
     "metadata": {},
     "output_type": "execute_result"
    }
   ],
   "source": [
    "binascii.hexlify(base58.b58decode_check(b'1thMirt546nngXqyPEz532S8fLwbozud8'))"
   ]
  },
  {
   "cell_type": "code",
   "execution_count": 80,
   "metadata": {},
   "outputs": [
    {
     "data": {
      "text/plain": [
       "b'B\\x80T\\x8c\\x17q\\xd6\\xa3:\\x0f\\xa37\\xa8\\x88^w\\xd4PO\\xbd\\tm\\xdc\\xca\\xbf\\xf7\\x85H\\xe1\\x8e\\xac\\xac'"
      ]
     },
     "execution_count": 80,
     "metadata": {},
     "output_type": "execute_result"
    }
   ],
   "source": [
    "publickey =b'045c0de3b9c8ab18dd04e3511243ec2952002dbfadc864b9628910169d9b9b00ec243bcefdd4347074d44bd7356d6a53c495737dd96295e2a9374bf5f02ebfc176'\n",
    "s = hashlib.new('sha256', publickey)\n",
    "s.digest()"
   ]
  },
  {
   "cell_type": "code",
   "execution_count": 77,
   "metadata": {},
   "outputs": [
    {
     "data": {
      "text/plain": [
       "'6a06fccc4aa4cdee7b19a209612021434c1896823a5f38e0ff4398208eef0759'"
      ]
     },
     "execution_count": 77,
     "metadata": {},
     "output_type": "execute_result"
    }
   ],
   "source": [
    "s.hexdigest()"
   ]
  },
  {
   "cell_type": "code",
   "execution_count": 78,
   "metadata": {},
   "outputs": [
    {
     "data": {
      "text/plain": [
       "b'\\x104\\xa4\\xd86\\xad\\x112\\x1f\\x1d=i|\\xea\\xedy &2$'"
      ]
     },
     "execution_count": 78,
     "metadata": {},
     "output_type": "execute_result"
    }
   ],
   "source": [
    "r = hashlib.new('ripemd160', s.digest())\n",
    "r.digest()"
   ]
  },
  {
   "cell_type": "code",
   "execution_count": 79,
   "metadata": {},
   "outputs": [
    {
     "data": {
      "text/plain": [
       "'1034a4d836ad11321f1d3d697ceaed7920263224'"
      ]
     },
     "execution_count": 79,
     "metadata": {},
     "output_type": "execute_result"
    }
   ],
   "source": [
    "r.hexdigest()"
   ]
  },
  {
   "cell_type": "code",
   "execution_count": 35,
   "metadata": {},
   "outputs": [
    {
     "data": {
      "text/plain": [
       "<sha256 HASH object @ 0x0000020EB58979B8>"
      ]
     },
     "execution_count": 35,
     "metadata": {},
     "output_type": "execute_result"
    }
   ],
   "source": [
    "ss = hashlib.new('sha256',    publickey)\n",
    "ss"
   ]
  },
  {
   "cell_type": "code",
   "execution_count": 18,
   "metadata": {},
   "outputs": [
    {
     "data": {
      "text/plain": [
       "'e607ff4fa71ef33ca357415e3d2f781c4cedacc3'"
      ]
     },
     "execution_count": 18,
     "metadata": {},
     "output_type": "execute_result"
    }
   ],
   "source": [
    "ss = b'6e28eefe40e5855ed8cdf0599ec12e52f73a5b222c84ba957b4dcdd2d8a9cf2a'\n",
    "rr = hashlib.new('ripemd160', ss        ).hexdigest()\n",
    "rr"
   ]
  },
  {
   "cell_type": "code",
   "execution_count": 1,
   "metadata": {
    "collapsed": true
   },
   "outputs": [],
   "source": [
    "import hashlib"
   ]
  },
  {
   "cell_type": "code",
   "execution_count": 3,
   "metadata": {},
   "outputs": [
    {
     "name": "stdout",
     "output_type": "stream",
     "text": [
      "{'sha', 'MD4', 'sha256', 'sha384', 'md4', 'sha3_256', 'shake_256', 'SHA224', 'blake2b', 'dsaEncryption', 'sha3_384', 'SHA', 'dsaWithSHA', 'sha3_512', 'MD5', 'SHA384', 'blake2s', 'ecdsa-with-SHA1', 'DSA', 'SHA1', 'sha224', 'sha512', 'SHA256', 'SHA512', 'DSA-SHA', 'sha1', 'shake_128', 'md5', 'ripemd160', 'whirlpool', 'sha3_224', 'RIPEMD160'}\n",
      "{'shake_256', 'sha3_512', 'sha1', 'shake_128', 'sha256', 'md5', 'sha384', 'blake2b', 'blake2s', 'sha224', 'sha512', 'sha3_384', 'sha3_224', 'sha3_256'}\n"
     ]
    }
   ],
   "source": [
    "print(hashlib.algorithms_available)\n",
    "print(hashlib.algorithms_guaranteed)"
   ]
  },
  {
   "cell_type": "code",
   "execution_count": 4,
   "metadata": {},
   "outputs": [
    {
     "name": "stdout",
     "output_type": "stream",
     "text": [
      "b10a8db164e0754105b7a99be72e3fe5\n"
     ]
    }
   ],
   "source": [
    "hash_object = hashlib.md5(b'Hello World')\n",
    "print(hash_object.hexdigest())"
   ]
  },
  {
   "cell_type": "code",
   "execution_count": 7,
   "metadata": {},
   "outputs": [
    {
     "data": {
      "text/plain": [
       "bytes"
      ]
     },
     "execution_count": 7,
     "metadata": {},
     "output_type": "execute_result"
    }
   ],
   "source": [
    "a = b'Hello World'\n",
    "type(a)"
   ]
  },
  {
   "cell_type": "code",
   "execution_count": null,
   "metadata": {
    "collapsed": true
   },
   "outputs": [],
   "source": []
  }
 ],
 "metadata": {
  "kernelspec": {
   "display_name": "Python 3",
   "language": "python",
   "name": "python3"
  },
  "language_info": {
   "codemirror_mode": {
    "name": "ipython",
    "version": 3
   },
   "file_extension": ".py",
   "mimetype": "text/x-python",
   "name": "python",
   "nbconvert_exporter": "python",
   "pygments_lexer": "ipython3",
   "version": "3.6.3"
  }
 },
 "nbformat": 4,
 "nbformat_minor": 2
}
