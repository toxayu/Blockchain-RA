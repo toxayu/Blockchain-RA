{
 "cells": [
  {
   "cell_type": "code",
   "execution_count": 1,
   "metadata": {
    "collapsed": true
   },
   "outputs": [],
   "source": [
    "import hashlib"
   ]
  },
  {
   "cell_type": "code",
   "execution_count": 2,
   "metadata": {
    "collapsed": true
   },
   "outputs": [],
   "source": [
    "text = \"This is the block header\""
   ]
  },
  {
   "cell_type": "code",
   "execution_count": 5,
   "metadata": {},
   "outputs": [
    {
     "name": "stdout",
     "output_type": "stream",
     "text": [
      "This is the block header0 => 873785850355a57cf10856fba216d4a382e680f333664fa87f3f977b1a142eb0\n",
      "This is the block header1 => fd0ed044d085eb82fd9a10592cdd43c9c31c422f53f75b82c0223019d6e86c23\n",
      "This is the block header2 => 4f67df9f2cc7645c6e3c09fe63866007edf90812f14e92c6df4f2a0895395a0d\n",
      "This is the block header3 => 174811b651d3ea28f799deed4b5e38dfdf8b5de652aede2c5386b25739cf6baf\n",
      "This is the block header4 => 390338e8208b69625dbdb5008a2636bfdfea1c9ec76fcef4cf7d390fd0ada966\n",
      "This is the block header5 => 7d00fbd0b9f57c5abc6bbc80366c1f1045e3cbbcdde730ca33b8905f597116a6\n",
      "This is the block header6 => 840f7f54504222bbeb62b42b46e3cc9bea5ae44b5282fa9ae1f9dc032b38c211\n",
      "This is the block header7 => 667f852ec67b546d9c99361f1225608db929b9b57a1d24b5189fcc3ed1ca0580\n",
      "This is the block header8 => a7cd722238541031d343cb46015c10d4282a958ca4e5208a7f8cc5964b246b4d\n",
      "This is the block header9 => 9ec281670d02c9ce21f3d55e87dd2ffc0992fced31537c573a51232dbd4ef9d4\n",
      "This is the block header10 => 5e4e3cc4fe983b47d3ddcf3cdc7c1dda34ab9ee8cb2631bc3a5b74f475528f9f\n",
      "This is the block header11 => e3abea0ebdfc1b08cce94741aabe1ba5ad68214894409b7f6b7e52878586e8f6\n",
      "This is the block header12 => fb992b71175eaa955a961e29d4d78ae93e343bd542f6ebaa75e4674b5d31b6a3\n",
      "This is the block header13 => 28d6ec063c5167dac0536a9121081b5ecfc4d6cafe287b4e140351f25890b757\n",
      "This is the block header14 => 66c7ed7b5f2b41bd3cc373c01c30e9fd8a14cc688309a24800616f2301876ea1\n",
      "This is the block header15 => 662b0193a350beeb850b6875e043b1be2a33804ed16eb3087aa4c6724166465d\n",
      "This is the block header16 => 4b923bd07312cc4fd1a455fc6ce650ceb2d0308dcd02e59a548a6cbd59c20d55\n",
      "This is the block header17 => 06ce1ae87eb628f3a1663e77c665dec297b8bc0c9a76615e416ff70e97fe6bf5\n",
      "This is the block header18 => 1b43d1338a4d3ffad82cbf7686714b58123369ba17ccd43bd109405f5784a326\n",
      "This is the block header19 => 59296a243d519e8e7040b12ebe430c8e236bcb4c24448fcc7289fd71ef14d511\n"
     ]
    }
   ],
   "source": [
    "for nonce in range(20):\n",
    "    input_data = text + str(nonce)\n",
    "    hash_data = hashlib.sha256(input_data.encode()).hexdigest()\n",
    "    print(input_data, '=>', hash_data)"
   ]
  },
  {
   "cell_type": "code",
   "execution_count": null,
   "metadata": {
    "collapsed": true
   },
   "outputs": [],
   "source": []
  },
  {
   "cell_type": "code",
   "execution_count": null,
   "metadata": {
    "collapsed": true
   },
   "outputs": [],
   "source": []
  }
 ],
 "metadata": {
  "kernelspec": {
   "display_name": "Python 3",
   "language": "python",
   "name": "python3"
  },
  "language_info": {
   "codemirror_mode": {
    "name": "ipython",
    "version": 3
   },
   "file_extension": ".py",
   "mimetype": "text/x-python",
   "name": "python",
   "nbconvert_exporter": "python",
   "pygments_lexer": "ipython3",
   "version": "3.6.3"
  }
 },
 "nbformat": 4,
 "nbformat_minor": 2
}
